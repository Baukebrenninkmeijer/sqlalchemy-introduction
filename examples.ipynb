{
 "cells": [
  {
   "cell_type": "code",
   "execution_count": 20,
   "metadata": {},
   "outputs": [],
   "source": [
    "from sqlalchemy import create_engine, MetaData, Table, Column, Integer, String\n",
    "from sqlalchemy.ext.declarative import declarative_base\n",
    "from sqlalchemy.orm import sessionmaker\n",
    "from sqlalchemy import select, update, delete\n",
    "\n",
    "# Create an engine that connects to a SQLite database\n",
    "engine = create_engine('sqlite:///:memory:', echo=True)"
   ]
  },
  {
   "cell_type": "code",
   "execution_count": 21,
   "metadata": {},
   "outputs": [
    {
     "name": "stdout",
     "output_type": "stream",
     "text": [
      "2023-05-17 00:08:00,010 INFO sqlalchemy.engine.Engine BEGIN (implicit)\n",
      "2023-05-17 00:08:00,012 INFO sqlalchemy.engine.Engine PRAGMA main.table_info(\"users\")\n",
      "2023-05-17 00:08:00,014 INFO sqlalchemy.engine.Engine [raw sql] ()\n",
      "2023-05-17 00:08:00,015 INFO sqlalchemy.engine.Engine PRAGMA temp.table_info(\"users\")\n",
      "2023-05-17 00:08:00,016 INFO sqlalchemy.engine.Engine [raw sql] ()\n",
      "2023-05-17 00:08:00,019 INFO sqlalchemy.engine.Engine \n",
      "CREATE TABLE users (\n",
      "\tid INTEGER NOT NULL, \n",
      "\tname VARCHAR, \n",
      "\tage INTEGER, \n",
      "\tPRIMARY KEY (id)\n",
      ")\n",
      "\n",
      "\n",
      "2023-05-17 00:08:00,020 INFO sqlalchemy.engine.Engine [no key 0.00138s] ()\n",
      "2023-05-17 00:08:00,022 INFO sqlalchemy.engine.Engine COMMIT\n",
      "2023-05-17 00:08:00,027 INFO sqlalchemy.engine.Engine BEGIN (implicit)\n",
      "2023-05-17 00:08:00,029 INFO sqlalchemy.engine.Engine INSERT INTO users (name, age) VALUES (?, ?)\n",
      "2023-05-17 00:08:00,030 INFO sqlalchemy.engine.Engine [generated in 0.00114s] ('Alice', 25)\n",
      "2023-05-17 00:08:00,032 INFO sqlalchemy.engine.Engine INSERT INTO users (name, age) VALUES (?, ?)\n",
      "2023-05-17 00:08:00,033 INFO sqlalchemy.engine.Engine [cached since 0.003761s ago] ('Bob', 30)\n",
      "2023-05-17 00:08:00,034 INFO sqlalchemy.engine.Engine INSERT INTO users (name, age) VALUES (?, ?)\n",
      "2023-05-17 00:08:00,035 INFO sqlalchemy.engine.Engine [cached since 0.00563s ago] ('Charlie', 35)\n",
      "2023-05-17 00:08:00,036 INFO sqlalchemy.engine.Engine COMMIT\n"
     ]
    }
   ],
   "source": [
    "Base = declarative_base()\n",
    "\n",
    "# Define a class that represents the users table\n",
    "class User(Base):\n",
    "    __tablename__ = 'users'\n",
    "    id = Column(Integer, primary_key=True)\n",
    "    name = Column(String)\n",
    "    age = Column(Integer)\n",
    "\n",
    "    def __repr__(self):\n",
    "        return f\"User(id={self.id}, name={self.name}, age={self.age})\"\n",
    "\n",
    "# Create the table in the database\n",
    "Base.metadata.create_all(engine)\n",
    "\n",
    "# Create a session object that manages the database transactions\n",
    "Session = sessionmaker(bind=engine)\n",
    "session = Session()\n",
    "\n",
    "# Insert some data into the table using the User class\n",
    "session.add_all([\n",
    "    User(name='Alice', age=25),\n",
    "    User(name='Bob', age=30),\n",
    "    User(name='Charlie', age=35)\n",
    "])\n",
    "session.commit()"
   ]
  },
  {
   "attachments": {},
   "cell_type": "markdown",
   "metadata": {},
   "source": [
    "# Insert with ORM"
   ]
  },
  {
   "cell_type": "code",
   "execution_count": null,
   "metadata": {},
   "outputs": [
    {
     "name": "stdout",
     "output_type": "stream",
     "text": [
      "2023-05-16 17:22:34,018 INFO sqlalchemy.engine.Engine INSERT INTO users (name, age) VALUES (?, ?)\n",
      "2023-05-16 17:22:34,020 INFO sqlalchemy.engine.Engine [cached since 1993s ago] ('dennis', 58)\n",
      "2023-05-16 17:22:34,022 INFO sqlalchemy.engine.Engine INSERT INTO users (name, age) VALUES (?, ?)\n",
      "2023-05-16 17:22:34,024 INFO sqlalchemy.engine.Engine [cached since 1993s ago] ('dennis', 58)\n",
      "2023-05-16 17:22:34,025 INFO sqlalchemy.engine.Engine COMMIT\n"
     ]
    }
   ],
   "source": [
    "session.add(\n",
    "    User(name='dennis', age=58)\n",
    ")\n",
    "session.commit()"
   ]
  },
  {
   "attachments": {},
   "cell_type": "markdown",
   "metadata": {},
   "source": [
    "# WHERE with ORM"
   ]
  },
  {
   "cell_type": "code",
   "execution_count": 30,
   "metadata": {},
   "outputs": [
    {
     "name": "stdout",
     "output_type": "stream",
     "text": [
      "2023-05-16 17:17:52,886 INFO sqlalchemy.engine.Engine SELECT users.id, users.name, users.age \n",
      "FROM users \n",
      "WHERE users.age > ?\n",
      "2023-05-16 17:17:52,887 INFO sqlalchemy.engine.Engine [generated in 0.00151s] (28,)\n",
      "<User(id=2, name=Bob, age=30)>\n",
      "<User(id=3, name=Charlie, age=35)>\n",
      "<User(id=5, name=Bob, age=30)>\n",
      "<User(id=6, name=Charlie, age=35)>\n"
     ]
    }
   ],
   "source": [
    "session.scalars(select(User).where(User.age > 28)).all()"
   ]
  },
  {
   "attachments": {},
   "cell_type": "markdown",
   "metadata": {},
   "source": [
    "# Update with ORM"
   ]
  },
  {
   "cell_type": "code",
   "execution_count": 38,
   "metadata": {},
   "outputs": [
    {
     "name": "stdout",
     "output_type": "stream",
     "text": [
      "2023-05-16 17:29:32,567 INFO sqlalchemy.engine.Engine UPDATE users SET name=? WHERE users.name = ?\n",
      "2023-05-16 17:29:32,569 INFO sqlalchemy.engine.Engine [cached since 22.71s ago] ('Alice the Third von Baumgarten', 'Alice')\n",
      "2023-05-16 17:29:32,572 INFO sqlalchemy.engine.Engine COMMIT\n"
     ]
    }
   ],
   "source": [
    "from sqlalchemy import update\n",
    "stmt = (\n",
    "    update(User)\n",
    "    .where(User.name == \"Alice\")\n",
    "    .values(name=\"Alice the Third von Baumgarten\")\n",
    ")\n",
    "session.execute(stmt)\n",
    "session.commit()"
   ]
  }
 ],
 "metadata": {
  "kernelspec": {
   "display_name": "p310",
   "language": "python",
   "name": "python3"
  },
  "language_info": {
   "codemirror_mode": {
    "name": "ipython",
    "version": 3
   },
   "file_extension": ".py",
   "mimetype": "text/x-python",
   "name": "python",
   "nbconvert_exporter": "python",
   "pygments_lexer": "ipython3",
   "version": "3.10.0"
  },
  "orig_nbformat": 4
 },
 "nbformat": 4,
 "nbformat_minor": 2
}
