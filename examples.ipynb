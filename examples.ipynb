{
 "cells": [
  {
   "cell_type": "code",
   "execution_count": 20,
   "metadata": {},
   "outputs": [],
   "source": [
    "from sqlalchemy import create_engine, MetaData, Table, Column, Integer, String\n",
    "from sqlalchemy.ext.declarative import declarative_base\n",
    "from sqlalchemy.orm import sessionmaker\n",
    "from sqlalchemy import select, update, delete\n",
    "\n",
    "# Create an engine that connects to a SQLite database\n",
    "engine = create_engine('sqlite:///:memory:', echo=True)"
   ]
  },
  {
   "cell_type": "code",
   "execution_count": 21,
   "metadata": {},
   "outputs": [
    {
     "name": "stdout",
     "output_type": "stream",
     "text": [
      "2023-05-17 00:08:00,010 INFO sqlalchemy.engine.Engine BEGIN (implicit)\n",
      "2023-05-17 00:08:00,012 INFO sqlalchemy.engine.Engine PRAGMA main.table_info(\"users\")\n",
      "2023-05-17 00:08:00,014 INFO sqlalchemy.engine.Engine [raw sql] ()\n",
      "2023-05-17 00:08:00,015 INFO sqlalchemy.engine.Engine PRAGMA temp.table_info(\"users\")\n",
      "2023-05-17 00:08:00,016 INFO sqlalchemy.engine.Engine [raw sql] ()\n",
      "2023-05-17 00:08:00,019 INFO sqlalchemy.engine.Engine \n",
      "CREATE TABLE users (\n",
      "\tid INTEGER NOT NULL, \n",
      "\tname VARCHAR, \n",
      "\tage INTEGER, \n",
      "\tPRIMARY KEY (id)\n",
      ")\n",
      "\n",
      "\n",
      "2023-05-17 00:08:00,020 INFO sqlalchemy.engine.Engine [no key 0.00138s] ()\n",
      "2023-05-17 00:08:00,022 INFO sqlalchemy.engine.Engine COMMIT\n",
      "2023-05-17 00:08:00,027 INFO sqlalchemy.engine.Engine BEGIN (implicit)\n",
      "2023-05-17 00:08:00,029 INFO sqlalchemy.engine.Engine INSERT INTO users (name, age) VALUES (?, ?)\n",
      "2023-05-17 00:08:00,030 INFO sqlalchemy.engine.Engine [generated in 0.00114s] ('Alice', 25)\n",
      "2023-05-17 00:08:00,032 INFO sqlalchemy.engine.Engine INSERT INTO users (name, age) VALUES (?, ?)\n",
      "2023-05-17 00:08:00,033 INFO sqlalchemy.engine.Engine [cached since 0.003761s ago] ('Bob', 30)\n",
      "2023-05-17 00:08:00,034 INFO sqlalchemy.engine.Engine INSERT INTO users (name, age) VALUES (?, ?)\n",
      "2023-05-17 00:08:00,035 INFO sqlalchemy.engine.Engine [cached since 0.00563s ago] ('Charlie', 35)\n",
      "2023-05-17 00:08:00,036 INFO sqlalchemy.engine.Engine COMMIT\n"
     ]
    }
   ],
   "source": [
    "Base = declarative_base()\n",
    "\n",
    "# Define a class that represents the users table\n",
    "class User(Base):\n",
    "    __tablename__ = 'users'\n",
    "    id = Column(Integer, primary_key=True)\n",
    "    name = Column(String)\n",
    "    age = Column(Integer)\n",
    "\n",
    "    def __repr__(self):\n",
    "        return f\"User(id={self.id}, name={self.name}, age={self.age})\"\n",
    "\n",
    "# Create the table in the database\n",
    "Base.metadata.create_all(engine)\n",
    "\n",
    "# Create a session object that manages the database transactions\n",
    "Session = sessionmaker(bind=engine)\n",
    "session = Session()\n",
    "\n",
    "# Insert some data into the table using the User class\n",
    "session.add_all([\n",
    "    User(name='Alice', age=25),\n",
    "    User(name='Bob', age=30),\n",
    "    User(name='Charlie', age=35)\n",
    "])\n",
    "session.commit()"
   ]
  },
  {
   "attachments": {},
   "cell_type": "markdown",
   "metadata": {},
   "source": [
    "# WHERE with ORM"
   ]
  },
  {
   "cell_type": "code",
   "execution_count": 30,
   "metadata": {},
   "outputs": [
    {
     "name": "stdout",
     "output_type": "stream",
     "text": [
      "2023-05-16 17:17:52,886 INFO sqlalchemy.engine.Engine SELECT users.id, users.name, users.age \n",
      "FROM users \n",
      "WHERE users.age > ?\n",
      "2023-05-16 17:17:52,887 INFO sqlalchemy.engine.Engine [generated in 0.00151s] (28,)\n",
      "<User(id=2, name=Bob, age=30)>\n",
      "<User(id=3, name=Charlie, age=35)>\n",
      "<User(id=5, name=Bob, age=30)>\n",
      "<User(id=6, name=Charlie, age=35)>\n"
     ]
    }
   ],
   "source": [
    "stmt = select(User).where(User.age > 28)\n",
    "for row in session.execute(stmt).fetchall():\n",
    "    print(row[0])"
   ]
  },
  {
   "cell_type": "code",
   "execution_count": 25,
   "metadata": {},
   "outputs": [
    {
     "name": "stdout",
     "output_type": "stream",
     "text": [
      "2023-05-16 17:13:41,028 INFO sqlalchemy.engine.Engine SELECT users.id, users.name, users.age \n",
      "FROM users \n",
      "WHERE users.name = ?\n",
      "2023-05-16 17:13:41,030 INFO sqlalchemy.engine.Engine [cached since 1460s ago] ('Alice',)\n",
      "<User(id=1, name=Alice, age=25)>\n"
     ]
    }
   ],
   "source": [
    "print(session.execute(stmt).fetchall()[0][0])"
   ]
  },
  {
   "cell_type": "code",
   "execution_count": 14,
   "metadata": {},
   "outputs": [
    {
     "data": {
      "text/plain": [
       "['__abstract__',\n",
       " '__class__',\n",
       " '__delattr__',\n",
       " '__dict__',\n",
       " '__dir__',\n",
       " '__doc__',\n",
       " '__eq__',\n",
       " '__format__',\n",
       " '__ge__',\n",
       " '__getattribute__',\n",
       " '__gt__',\n",
       " '__hash__',\n",
       " '__init__',\n",
       " '__init_subclass__',\n",
       " '__le__',\n",
       " '__lt__',\n",
       " '__mapper__',\n",
       " '__module__',\n",
       " '__ne__',\n",
       " '__new__',\n",
       " '__reduce__',\n",
       " '__reduce_ex__',\n",
       " '__repr__',\n",
       " '__setattr__',\n",
       " '__sizeof__',\n",
       " '__str__',\n",
       " '__subclasshook__',\n",
       " '__table__',\n",
       " '__tablename__',\n",
       " '__weakref__',\n",
       " '_sa_class_manager',\n",
       " '_sa_instance_state',\n",
       " '_sa_registry',\n",
       " 'age',\n",
       " 'id',\n",
       " 'metadata',\n",
       " 'name',\n",
       " 'registry']"
      ]
     },
     "execution_count": 14,
     "metadata": {},
     "output_type": "execute_result"
    }
   ],
   "source": [
    "u = User(name='dennis', age=58)\n",
    "dir(u)"
   ]
  },
  {
   "cell_type": "code",
   "execution_count": 18,
   "metadata": {},
   "outputs": [
    {
     "data": {
      "text/plain": [
       "User(id=None, name=dennis, age=58)"
      ]
     },
     "execution_count": 18,
     "metadata": {},
     "output_type": "execute_result"
    }
   ],
   "source": [
    "u"
   ]
  },
  {
   "cell_type": "code",
   "execution_count": 16,
   "metadata": {},
   "outputs": [
    {
     "ename": "TypeError",
     "evalue": "'Mapper' object is not callable",
     "output_type": "error",
     "traceback": [
      "\u001b[0;31m---------------------------------------------------------------------------\u001b[0m",
      "\u001b[0;31mTypeError\u001b[0m                                 Traceback (most recent call last)",
      "\u001b[1;32m/Users/baukebrenninkmeijer/Projects/sqlalchemy-introduction/examples.ipynb Cell 7\u001b[0m in \u001b[0;36m1\n\u001b[0;32m----> <a href='vscode-notebook-cell:/Users/baukebrenninkmeijer/Projects/sqlalchemy-introduction/examples.ipynb#X20sZmlsZQ%3D%3D?line=0'>1</a>\u001b[0m u\u001b[39m.\u001b[39;49m__mapper__()\n",
      "\u001b[0;31mTypeError\u001b[0m: 'Mapper' object is not callable"
     ]
    }
   ],
   "source": [
    "u.__mapper__"
   ]
  },
  {
   "cell_type": "code",
   "execution_count": 32,
   "metadata": {},
   "outputs": [
    {
     "name": "stdout",
     "output_type": "stream",
     "text": [
      "2023-05-16 17:22:34,018 INFO sqlalchemy.engine.Engine INSERT INTO users (name, age) VALUES (?, ?)\n",
      "2023-05-16 17:22:34,020 INFO sqlalchemy.engine.Engine [cached since 1993s ago] ('dennis', 58)\n",
      "2023-05-16 17:22:34,022 INFO sqlalchemy.engine.Engine INSERT INTO users (name, age) VALUES (?, ?)\n",
      "2023-05-16 17:22:34,024 INFO sqlalchemy.engine.Engine [cached since 1993s ago] ('dennis', 58)\n",
      "2023-05-16 17:22:34,025 INFO sqlalchemy.engine.Engine COMMIT\n"
     ]
    }
   ],
   "source": [
    "session.add(\n",
    "    User(name='dennis', age=58)\n",
    ")\n",
    "session.commit()"
   ]
  },
  {
   "cell_type": "code",
   "execution_count": 38,
   "metadata": {},
   "outputs": [
    {
     "name": "stdout",
     "output_type": "stream",
     "text": [
      "2023-05-16 17:29:32,567 INFO sqlalchemy.engine.Engine UPDATE users SET name=? WHERE users.name = ?\n",
      "2023-05-16 17:29:32,569 INFO sqlalchemy.engine.Engine [cached since 22.71s ago] ('Alice the Third von Baumgarten', 'Alice')\n",
      "2023-05-16 17:29:32,572 INFO sqlalchemy.engine.Engine COMMIT\n"
     ]
    }
   ],
   "source": [
    "from sqlalchemy import update\n",
    "stmt = (\n",
    "    update(User)\n",
    "    .where(User.name == \"Alice\")\n",
    "    .values(name=\"Alice the Third von Baumgarten\")\n",
    ")\n",
    "session.execute(stmt)\n",
    "session.commit()"
   ]
  },
  {
   "cell_type": "code",
   "execution_count": 7,
   "metadata": {},
   "outputs": [
    {
     "ename": "ArgumentError",
     "evalue": "List argument must consist only of tuples or dictionaries",
     "output_type": "error",
     "traceback": [
      "\u001b[0;31m---------------------------------------------------------------------------\u001b[0m",
      "\u001b[0;31mArgumentError\u001b[0m                             Traceback (most recent call last)",
      "\u001b[1;32m/Users/baukebrenninkmeijer/Projects/sqlalchemy-introduction/examples.ipynb Cell 8\u001b[0m in \u001b[0;36m1\n\u001b[0;32m----> <a href='vscode-notebook-cell:/Users/baukebrenninkmeijer/Projects/sqlalchemy-introduction/examples.ipynb#X15sZmlsZQ%3D%3D?line=0'>1</a>\u001b[0m session\u001b[39m.\u001b[39;49mexecute(update(User), \n\u001b[1;32m      <a href='vscode-notebook-cell:/Users/baukebrenninkmeijer/Projects/sqlalchemy-introduction/examples.ipynb#X15sZmlsZQ%3D%3D?line=1'>2</a>\u001b[0m                 [\n\u001b[1;32m      <a href='vscode-notebook-cell:/Users/baukebrenninkmeijer/Projects/sqlalchemy-introduction/examples.ipynb#X15sZmlsZQ%3D%3D?line=2'>3</a>\u001b[0m                     User(\u001b[39mid\u001b[39;49m\u001b[39m=\u001b[39;49m\u001b[39m1\u001b[39;49m, name\u001b[39m=\u001b[39;49m\u001b[39m'\u001b[39;49m\u001b[39mAlice from Wonderland\u001b[39;49m\u001b[39m'\u001b[39;49m)\n\u001b[1;32m      <a href='vscode-notebook-cell:/Users/baukebrenninkmeijer/Projects/sqlalchemy-introduction/examples.ipynb#X15sZmlsZQ%3D%3D?line=3'>4</a>\u001b[0m                 ]\n\u001b[1;32m      <a href='vscode-notebook-cell:/Users/baukebrenninkmeijer/Projects/sqlalchemy-introduction/examples.ipynb#X15sZmlsZQ%3D%3D?line=4'>5</a>\u001b[0m             )\n",
      "File \u001b[0;32m~/opt/anaconda3/envs/p310/lib/python3.10/site-packages/sqlalchemy/orm/session.py:1712\u001b[0m, in \u001b[0;36mSession.execute\u001b[0;34m(self, statement, params, execution_options, bind_arguments, _parent_execute_state, _add_event, **kw)\u001b[0m\n\u001b[1;32m   1710\u001b[0m \u001b[39melse\u001b[39;00m:\n\u001b[1;32m   1711\u001b[0m     conn \u001b[39m=\u001b[39m \u001b[39mself\u001b[39m\u001b[39m.\u001b[39m_connection_for_bind(bind)\n\u001b[0;32m-> 1712\u001b[0m result \u001b[39m=\u001b[39m conn\u001b[39m.\u001b[39;49m_execute_20(statement, params \u001b[39mor\u001b[39;49;00m {}, execution_options)\n\u001b[1;32m   1714\u001b[0m \u001b[39mif\u001b[39;00m compile_state_cls:\n\u001b[1;32m   1715\u001b[0m     result \u001b[39m=\u001b[39m compile_state_cls\u001b[39m.\u001b[39morm_setup_cursor_result(\n\u001b[1;32m   1716\u001b[0m         \u001b[39mself\u001b[39m,\n\u001b[1;32m   1717\u001b[0m         statement,\n\u001b[0;32m   (...)\u001b[0m\n\u001b[1;32m   1721\u001b[0m         result,\n\u001b[1;32m   1722\u001b[0m     )\n",
      "File \u001b[0;32m~/opt/anaconda3/envs/p310/lib/python3.10/site-packages/sqlalchemy/engine/base.py:1697\u001b[0m, in \u001b[0;36mConnection._execute_20\u001b[0;34m(self, statement, parameters, execution_options)\u001b[0m\n\u001b[1;32m   1691\u001b[0m \u001b[39mdef\u001b[39;00m \u001b[39m_execute_20\u001b[39m(\n\u001b[1;32m   1692\u001b[0m     \u001b[39mself\u001b[39m,\n\u001b[1;32m   1693\u001b[0m     statement,\n\u001b[1;32m   1694\u001b[0m     parameters\u001b[39m=\u001b[39m\u001b[39mNone\u001b[39;00m,\n\u001b[1;32m   1695\u001b[0m     execution_options\u001b[39m=\u001b[39m_EMPTY_EXECUTION_OPTS,\n\u001b[1;32m   1696\u001b[0m ):\n\u001b[0;32m-> 1697\u001b[0m     args_10style, kwargs_10style \u001b[39m=\u001b[39m _distill_params_20(parameters)\n\u001b[1;32m   1698\u001b[0m     \u001b[39mtry\u001b[39;00m:\n\u001b[1;32m   1699\u001b[0m         meth \u001b[39m=\u001b[39m statement\u001b[39m.\u001b[39m_execute_on_connection\n",
      "File \u001b[0;32m~/opt/anaconda3/envs/p310/lib/python3.10/site-packages/sqlalchemy/engine/util.py:142\u001b[0m, in \u001b[0;36m_distill_params_20\u001b[0;34m(params)\u001b[0m\n\u001b[1;32m    137\u001b[0m \u001b[39melif\u001b[39;00m \u001b[39misinstance\u001b[39m(params, \u001b[39mlist\u001b[39m):\n\u001b[1;32m    138\u001b[0m     \u001b[39m# collections_abc.MutableSequence): # avoid abc.__instancecheck__\u001b[39;00m\n\u001b[1;32m    139\u001b[0m     \u001b[39mif\u001b[39;00m params \u001b[39mand\u001b[39;00m \u001b[39mnot\u001b[39;00m \u001b[39misinstance\u001b[39m(\n\u001b[1;32m    140\u001b[0m         params[\u001b[39m0\u001b[39m], (collections_abc\u001b[39m.\u001b[39mMapping, \u001b[39mtuple\u001b[39m)\n\u001b[1;32m    141\u001b[0m     ):\n\u001b[0;32m--> 142\u001b[0m         \u001b[39mraise\u001b[39;00m exc\u001b[39m.\u001b[39mArgumentError(\n\u001b[1;32m    143\u001b[0m             \u001b[39m\"\u001b[39m\u001b[39mList argument must consist only of tuples or dictionaries\u001b[39m\u001b[39m\"\u001b[39m\n\u001b[1;32m    144\u001b[0m         )\n\u001b[1;32m    146\u001b[0m     \u001b[39mreturn\u001b[39;00m (params,), _no_kw\n\u001b[1;32m    147\u001b[0m \u001b[39melif\u001b[39;00m \u001b[39misinstance\u001b[39m(\n\u001b[1;32m    148\u001b[0m     params,\n\u001b[1;32m    149\u001b[0m     (\u001b[39mtuple\u001b[39m, \u001b[39mdict\u001b[39m, immutabledict),\n\u001b[1;32m    150\u001b[0m     \u001b[39m# only do abc.__instancecheck__ for Mapping after we've checked\u001b[39;00m\n\u001b[1;32m    151\u001b[0m     \u001b[39m# for plain dictionaries and would otherwise raise\u001b[39;00m\n\u001b[1;32m    152\u001b[0m ) \u001b[39mor\u001b[39;00m \u001b[39misinstance\u001b[39m(params, collections_abc\u001b[39m.\u001b[39mMapping):\n",
      "\u001b[0;31mArgumentError\u001b[0m: List argument must consist only of tuples or dictionaries"
     ]
    }
   ],
   "source": [
    "session.execute(update(User), \n",
    "                [\n",
    "                    User(id=1, name='Alice from Wonderland')\n",
    "                ]\n",
    "            )"
   ]
  },
  {
   "cell_type": "code",
   "execution_count": 5,
   "metadata": {},
   "outputs": [
    {
     "name": "stdout",
     "output_type": "stream",
     "text": [
      "2023-05-16 23:15:13,093 INFO sqlalchemy.engine.Engine SELECT users.id, users.name, users.age \n",
      "FROM users \n",
      "WHERE users.age > ?\n",
      "2023-05-16 23:15:13,094 INFO sqlalchemy.engine.Engine [cached since 154.6s ago] (28,)\n"
     ]
    },
    {
     "data": {
      "text/plain": [
       "[User(id=2, name=Bob, age=30), User(id=3, name=Charlie, age=35)]"
      ]
     },
     "execution_count": 5,
     "metadata": {},
     "output_type": "execute_result"
    }
   ],
   "source": [
    "session.scalars(select(User).where(User.age > 28)).all()"
   ]
  },
  {
   "cell_type": "code",
   "execution_count": 6,
   "metadata": {},
   "outputs": [
    {
     "name": "stdout",
     "output_type": "stream",
     "text": [
      "2023-05-16 23:16:14,308 INFO sqlalchemy.engine.Engine SELECT users.id, users.name, users.age \n",
      "FROM users\n",
      "2023-05-16 23:16:14,310 INFO sqlalchemy.engine.Engine [generated in 0.00127s] ()\n"
     ]
    },
    {
     "data": {
      "text/plain": [
       "[User(id=1, name=Alice, age=25),\n",
       " User(id=2, name=Bob, age=30),\n",
       " User(id=3, name=Charlie, age=35)]"
      ]
     },
     "execution_count": 6,
     "metadata": {},
     "output_type": "execute_result"
    }
   ],
   "source": [
    "session.scalars(select(User)).all()\n"
   ]
  },
  {
   "cell_type": "code",
   "execution_count": 39,
   "metadata": {},
   "outputs": [
    {
     "name": "stdout",
     "output_type": "stream",
     "text": [
      "2023-05-16 17:29:34,510 INFO sqlalchemy.engine.Engine PRAGMA main.table_info(\"users\")\n",
      "2023-05-16 17:29:34,510 INFO sqlalchemy.engine.Engine [raw sql] ()\n",
      "2023-05-16 17:29:34,514 INFO sqlalchemy.engine.Engine SELECT name FROM sqlite_master WHERE type='table' ORDER BY name\n",
      "2023-05-16 17:29:34,515 INFO sqlalchemy.engine.Engine [raw sql] ()\n",
      "2023-05-16 17:29:34,516 INFO sqlalchemy.engine.Engine PRAGMA main.table_xinfo(\"users\")\n",
      "2023-05-16 17:29:34,517 INFO sqlalchemy.engine.Engine [raw sql] ()\n",
      "2023-05-16 17:29:34,519 INFO sqlalchemy.engine.Engine SELECT sql FROM  (SELECT * FROM sqlite_master UNION ALL   SELECT * FROM sqlite_temp_master) WHERE name = ? AND type = 'table'\n",
      "2023-05-16 17:29:34,519 INFO sqlalchemy.engine.Engine [raw sql] ('users',)\n",
      "2023-05-16 17:29:34,521 INFO sqlalchemy.engine.Engine PRAGMA main.foreign_key_list(\"users\")\n",
      "2023-05-16 17:29:34,522 INFO sqlalchemy.engine.Engine [raw sql] ()\n",
      "2023-05-16 17:29:34,524 INFO sqlalchemy.engine.Engine PRAGMA temp.foreign_key_list(\"users\")\n",
      "2023-05-16 17:29:34,525 INFO sqlalchemy.engine.Engine [raw sql] ()\n",
      "2023-05-16 17:29:34,526 INFO sqlalchemy.engine.Engine SELECT sql FROM  (SELECT * FROM sqlite_master UNION ALL   SELECT * FROM sqlite_temp_master) WHERE name = ? AND type = 'table'\n",
      "2023-05-16 17:29:34,527 INFO sqlalchemy.engine.Engine [raw sql] ('users',)\n",
      "2023-05-16 17:29:34,528 INFO sqlalchemy.engine.Engine PRAGMA main.index_list(\"users\")\n",
      "2023-05-16 17:29:34,529 INFO sqlalchemy.engine.Engine [raw sql] ()\n",
      "2023-05-16 17:29:34,530 INFO sqlalchemy.engine.Engine PRAGMA temp.index_list(\"users\")\n",
      "2023-05-16 17:29:34,530 INFO sqlalchemy.engine.Engine [raw sql] ()\n",
      "2023-05-16 17:29:34,531 INFO sqlalchemy.engine.Engine PRAGMA main.index_list(\"users\")\n",
      "2023-05-16 17:29:34,532 INFO sqlalchemy.engine.Engine [raw sql] ()\n",
      "2023-05-16 17:29:34,533 INFO sqlalchemy.engine.Engine PRAGMA temp.index_list(\"users\")\n",
      "2023-05-16 17:29:34,534 INFO sqlalchemy.engine.Engine [raw sql] ()\n",
      "2023-05-16 17:29:34,534 INFO sqlalchemy.engine.Engine SELECT sql FROM  (SELECT * FROM sqlite_master UNION ALL   SELECT * FROM sqlite_temp_master) WHERE name = ? AND type = 'table'\n",
      "2023-05-16 17:29:34,535 INFO sqlalchemy.engine.Engine [raw sql] ('users',)\n",
      "2023-05-16 17:29:34,538 INFO sqlalchemy.engine.Engine SELECT users.id, users.name, users.age \n",
      "FROM users\n",
      "2023-05-16 17:29:34,539 INFO sqlalchemy.engine.Engine [generated in 0.00089s] ()\n"
     ]
    },
    {
     "data": {
      "text/html": [
       "<div>\n",
       "<style scoped>\n",
       "    .dataframe tbody tr th:only-of-type {\n",
       "        vertical-align: middle;\n",
       "    }\n",
       "\n",
       "    .dataframe tbody tr th {\n",
       "        vertical-align: top;\n",
       "    }\n",
       "\n",
       "    .dataframe thead th {\n",
       "        text-align: right;\n",
       "    }\n",
       "</style>\n",
       "<table border=\"1\" class=\"dataframe\">\n",
       "  <thead>\n",
       "    <tr style=\"text-align: right;\">\n",
       "      <th></th>\n",
       "      <th>id</th>\n",
       "      <th>name</th>\n",
       "      <th>age</th>\n",
       "    </tr>\n",
       "  </thead>\n",
       "  <tbody>\n",
       "    <tr>\n",
       "      <th>0</th>\n",
       "      <td>1</td>\n",
       "      <td>Alice the Third von Baumgarten</td>\n",
       "      <td>25</td>\n",
       "    </tr>\n",
       "    <tr>\n",
       "      <th>1</th>\n",
       "      <td>2</td>\n",
       "      <td>Bob</td>\n",
       "      <td>30</td>\n",
       "    </tr>\n",
       "    <tr>\n",
       "      <th>2</th>\n",
       "      <td>3</td>\n",
       "      <td>Charlie</td>\n",
       "      <td>35</td>\n",
       "    </tr>\n",
       "    <tr>\n",
       "      <th>3</th>\n",
       "      <td>4</td>\n",
       "      <td>Alice the Third von Baumgarten</td>\n",
       "      <td>25</td>\n",
       "    </tr>\n",
       "    <tr>\n",
       "      <th>4</th>\n",
       "      <td>5</td>\n",
       "      <td>Bob</td>\n",
       "      <td>30</td>\n",
       "    </tr>\n",
       "    <tr>\n",
       "      <th>5</th>\n",
       "      <td>6</td>\n",
       "      <td>Charlie</td>\n",
       "      <td>35</td>\n",
       "    </tr>\n",
       "    <tr>\n",
       "      <th>6</th>\n",
       "      <td>7</td>\n",
       "      <td>dennis</td>\n",
       "      <td>58</td>\n",
       "    </tr>\n",
       "    <tr>\n",
       "      <th>7</th>\n",
       "      <td>8</td>\n",
       "      <td>dennis</td>\n",
       "      <td>58</td>\n",
       "    </tr>\n",
       "  </tbody>\n",
       "</table>\n",
       "</div>"
      ],
      "text/plain": [
       "   id                            name  age\n",
       "0   1  Alice the Third von Baumgarten   25\n",
       "1   2                             Bob   30\n",
       "2   3                         Charlie   35\n",
       "3   4  Alice the Third von Baumgarten   25\n",
       "4   5                             Bob   30\n",
       "5   6                         Charlie   35\n",
       "6   7                          dennis   58\n",
       "7   8                          dennis   58"
      ]
     },
     "execution_count": 39,
     "metadata": {},
     "output_type": "execute_result"
    }
   ],
   "source": [
    "import pandas as pd\n",
    "pd.read_sql('users', con=engine)"
   ]
  }
 ],
 "metadata": {
  "kernelspec": {
   "display_name": "p310",
   "language": "python",
   "name": "python3"
  },
  "language_info": {
   "codemirror_mode": {
    "name": "ipython",
    "version": 3
   },
   "file_extension": ".py",
   "mimetype": "text/x-python",
   "name": "python",
   "nbconvert_exporter": "python",
   "pygments_lexer": "ipython3",
   "version": "3.10.0"
  },
  "orig_nbformat": 4
 },
 "nbformat": 4,
 "nbformat_minor": 2
}
